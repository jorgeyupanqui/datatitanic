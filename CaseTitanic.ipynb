{
 "cells": [
  {
   "cell_type": "markdown",
   "id": "fd979738-f605-4b18-86d9-52149f7e2af0",
   "metadata": {},
   "source": [
    "**UNIVERSIDAD NACIONAL MAYOR DE SAN MARCOS**\n",
    "\n",
    "**FACULTAD DE CIENCIAS MATEMÁTICAS**\n",
    "\n",
    "**ESCUELA PROFESIONAL DE ESTADÍSTICA**\n",
    "\n",
    "**APLICACIÓN PRÁCTICA DE LABORATORIO**\n",
    "\n",
    "**Curso:** Programación en Lenguaje Estadístico\n",
    "\n",
    "**Profesor:** MSc Emerson Damián Norabuena Figueroa\n",
    "\n",
    "**Integrantes:**\n",
    "\n",
    "- Yupanqui Durán, Jorge Iván\n",
    "\n",
    "**Agosto, 2024**\n",
    "\n",
    "# Análisis de Datos del Titanic\n",
    "\n",
    "## Contexto:\n",
    "El conjunto de datos Titanic es empleado a fin de informar de los atributos que fijan posibles métricas para el analista de datos - junior. \n",
    "\n",
    "**Objetivo:** Conocer los patrones a partir de la información recopilada para aprender y simular técnicas de análisis de datos sobre un entorno de desarrollo.\n",
    "\n",
    "# Resumen:\n",
    "Este código cubre los puntos mencionados en la presentación:\n",
    "\n",
    "- **Load and check data:** Carga y revisa los datos del Titanic.\n",
    "- **Data visualization:** Visualiza algunos aspectos clave de los datos, como la supervivencia por clase y la distribución de la edad.\n",
    "- **Feature Engineering:** Realiza ingeniería de características, como el llenado de valores nulos y la creación de variables dummy.\n",
    "- **Modeling Train - Test Split:** Divide los datos en conjuntos de entrenamiento y prueba.\n",
    "- **Standardization:** Aplica la estandarización a los datos para la fase de modelado.\n"
   ]
  },
  {
   "cell_type": "code",
   "execution_count": 7,
   "id": "2445d617-49e3-4184-94ac-0839e8a76db9",
   "metadata": {},
   "outputs": [],
   "source": [
    "# Importación de paquetes\n",
    "import numpy as np\n",
    "import pandas as pd\n",
    "import matplotlib.pyplot as plt\n",
    "%matplotlib inline\n",
    "\n",
    "import seaborn as sns\n",
    "sns.set(palette=\"Set2\")\n",
    "\n",
    "from sklearn.preprocessing import LabelEncoder"
   ]
  },
  {
   "cell_type": "markdown",
   "id": "b0a12926-913c-4af2-a39a-75bf782815c1",
   "metadata": {},
   "source": [
    "**Load and check data**"
   ]
  },
  {
   "cell_type": "code",
   "execution_count": null,
   "id": "08d3674a-5b38-41f2-9625-653e80d20a9f",
   "metadata": {},
   "outputs": [],
   "source": []
  }
 ],
 "metadata": {
  "kernelspec": {
   "display_name": "Python 3 (ipykernel)",
   "language": "python",
   "name": "python3"
  },
  "language_info": {
   "codemirror_mode": {
    "name": "ipython",
    "version": 3
   },
   "file_extension": ".py",
   "mimetype": "text/x-python",
   "name": "python",
   "nbconvert_exporter": "python",
   "pygments_lexer": "ipython3",
   "version": "3.12.4"
  }
 },
 "nbformat": 4,
 "nbformat_minor": 5
}
